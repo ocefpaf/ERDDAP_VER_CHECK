{
 "cells": [
  {
   "cell_type": "code",
   "execution_count": null,
   "id": "bf02f32b",
   "metadata": {},
   "outputs": [],
   "source": [
    "import pandas as pd\n",
    "from erddapy import servers\n",
    "\n",
    "\n",
    "url = \"https://raw.githubusercontent.com/ioos/ioos-asset-inventory/main/utils/ra_erddaps.json\"\n",
    "regions = pd.read_json(url, typ=\"series\")\n",
    "\n",
    "url = \"https://raw.githubusercontent.com/IrishMarineInstitute/search-erddaps/master/erddaps.json\"\n",
    "search_erddaps = pd.read_json(url).squeeze()\n",
    "\n",
    "\n",
    "awesome_erddap = pd.Series({k: v.url for k, v in servers.items()})\n",
    "servers = pd.concat([regions, awesome_erddap, search_erddaps])"
   ]
  },
  {
   "cell_type": "markdown",
   "id": "47195089",
   "metadata": {},
   "source": [
    "Cleanup and drop duplicate entries."
   ]
  },
  {
   "cell_type": "code",
   "execution_count": null,
   "id": "e91aeda9",
   "metadata": {},
   "outputs": [],
   "source": [
    "servers = servers.str.rstrip(\"/\").str.rstrip(\"/index.html\")\n",
    "\n",
    "servers = sorted(servers.drop_duplicates())"
   ]
  },
  {
   "cell_type": "code",
   "execution_count": null,
   "id": "1e52d057",
   "metadata": {},
   "outputs": [],
   "source": [
    "import httpx\n",
    "\n",
    "\n",
    "data = {}\n",
    "for url in servers:\n",
    "    try:\n",
    "        r = httpx.get(url, follow_redirects=True)\n",
    "        for line in r.text.splitlines():\n",
    "            if line.strip().lower().startswith(\"erddap, version\"):\n",
    "                version = line.split()[2]\n",
    "    except Exception as err:\n",
    "        version = \"failed\"\n",
    "        print(f\"{url=} failed with {err}.\")\n",
    "    data.update({url: version})"
   ]
  },
  {
   "cell_type": "code",
   "execution_count": null,
   "id": "042d2d39",
   "metadata": {},
   "outputs": [],
   "source": [
    "series = pd.Series(data)\n",
    "\n",
    "df = pd.DataFrame(series.sort_values(), columns=[\"version\"])\n",
    "with pd.option_context(\"display.max_rows\", None):\n",
    "    df = df.sort_index(ascending=False)\n",
    "    print(df.to_markdown())"
   ]
  },
  {
   "cell_type": "code",
   "execution_count": null,
   "id": "08f383c5",
   "metadata": {},
   "outputs": [],
   "source": [
    "counts = df.value_counts()\n",
    "counts"
   ]
  },
  {
   "cell_type": "code",
   "execution_count": null,
   "id": "47c371f9",
   "metadata": {},
   "outputs": [],
   "source": [
    "# squeeze index\n",
    "counts.index = [idx[0] for idx in counts.index.values]"
   ]
  },
  {
   "cell_type": "code",
   "execution_count": null,
   "id": "c164af3b",
   "metadata": {},
   "outputs": [],
   "source": [
    "print(counts.to_markdown())"
   ]
  },
  {
   "cell_type": "code",
   "execution_count": null,
   "id": "5712da5a",
   "metadata": {},
   "outputs": [],
   "source": [
    "counts.to_markdown(\"html/README.md\")\n",
    "df.to_markdown(\"html/index.md\")"
   ]
  },
  {
   "cell_type": "code",
   "execution_count": null,
   "id": "de8d0f7b",
   "metadata": {},
   "outputs": [],
   "source": [
    "print(f\"We have {counts['2.24']/df.size:.2%} deployments on version 2.24.\")"
   ]
  }
 ],
 "metadata": {
  "kernelspec": {
   "display_name": "Python 3 (ipykernel)",
   "language": "python",
   "name": "python3"
  },
  "language_info": {
   "codemirror_mode": {
    "name": "ipython",
    "version": 3
   },
   "file_extension": ".py",
   "mimetype": "text/x-python",
   "name": "python",
   "nbconvert_exporter": "python",
   "pygments_lexer": "ipython3",
   "version": "3.12.5"
  }
 },
 "nbformat": 4,
 "nbformat_minor": 5
}
